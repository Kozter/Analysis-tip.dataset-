{
 "cells": [
  {
   "cell_type": "code",
   "execution_count": null,
   "outputs": [],
   "source": [],
   "metadata": {
    "collapsed": false,
    "pycharm": {
     "name": "#%%\n"
    }
   }
  },
  {
   "cell_type": "markdown",
   "source": [
    "# Project"
   ],
   "metadata": {
    "collapsed": false
   }
  },
  {
   "cell_type": "markdown",
   "source": [
    "#### Importing libaries"
   ],
   "metadata": {
    "collapsed": false
   }
  },
  {
   "cell_type": "code",
   "execution_count": null,
   "outputs": [],
   "source": [
    "import numpy as np\n",
    "import pandas as pd #import panda library\n",
    "from matplotlib import pyplot as plt #import matplotlib library\n",
    "import seaborn as sns #import seaborn library\n",
    "\n",
    "plt.style.use('seaborn-white') #setting the plt.style use"
   ],
   "metadata": {
    "collapsed": false,
    "pycharm": {
     "name": "#%%\n"
    }
   }
  },
  {
   "cell_type": "markdown",
   "source": [
    "## Load and read the data csv.file"
   ],
   "metadata": {
    "collapsed": false
   }
  },
  {
   "cell_type": "code",
   "execution_count": null,
   "outputs": [],
   "source": [
    "df = pd.read_csv('/users/jorge/desktop/data.csv')\n",
    "df.head() #data loaded as a dataframe / showing the first 5 rows as a header"
   ],
   "metadata": {
    "collapsed": false,
    "pycharm": {
     "name": "#%%\n"
    }
   }
  },
  {
   "cell_type": "markdown",
   "source": [
    "## Explore the data, and perform proper visualization"
   ],
   "metadata": {
    "collapsed": false
   }
  },
  {
   "cell_type": "code",
   "execution_count": null,
   "outputs": [],
   "source": [
    "print('data shape:', df.shape) #as we can see we have 244 rows x 6 columns\n",
    "print('data dim:', df.ndim) #checking dimension\n",
    "print(type(df)) #veryfing data type"
   ],
   "metadata": {
    "collapsed": false,
    "pycharm": {
     "name": "#%%\n"
    }
   }
  },
  {
   "cell_type": "markdown",
   "source": [
    "### Data information"
   ],
   "metadata": {
    "collapsed": false
   }
  },
  {
   "cell_type": "code",
   "execution_count": null,
   "outputs": [],
   "source": [
    "df.info() #concise summary of the dataframe such as:\n",
    "          #index, data type, columns and non-null values"
   ],
   "metadata": {
    "collapsed": false,
    "pycharm": {
     "name": "#%%\n"
    }
   }
  },
  {
   "cell_type": "code",
   "execution_count": null,
   "outputs": [],
   "source": [
    "df.isnull().sum() #Checking for any \"null\" values"
   ],
   "metadata": {
    "collapsed": false,
    "pycharm": {
     "name": "#%%\n"
    }
   }
  },
  {
   "cell_type": "code",
   "execution_count": null,
   "outputs": [],
   "source": [
    "df.describe() #Summary of the dataset in detail"
   ],
   "metadata": {
    "collapsed": false,
    "pycharm": {
     "name": "#%%\n"
    }
   }
  },
  {
   "cell_type": "markdown",
   "source": [
    "### Co-relations"
   ],
   "metadata": {
    "collapsed": false
   }
  },
  {
   "cell_type": "code",
   "execution_count": null,
   "outputs": [],
   "source": [
    "df.corr() #find the pairwise co-relations of the columns in the dataframe"
   ],
   "metadata": {
    "collapsed": false,
    "pycharm": {
     "name": "#%%\n"
    }
   }
  },
  {
   "cell_type": "markdown",
   "source": [
    "# summarise"
   ],
   "metadata": {
    "collapsed": false
   }
  },
  {
   "cell_type": "markdown",
   "source": [
    "#### Total bill"
   ],
   "metadata": {
    "collapsed": false
   }
  },
  {
   "cell_type": "code",
   "execution_count": null,
   "outputs": [],
   "source": [
    "sum = df['total_bill'].sum()\n",
    "print('total_bill summary:', sum) #total summary\n",
    "print('total bill (min) value :', df['total_bill'].min()) #min value\n",
    "print('total bill mean :', df[\"total_bill\"].mean()) #printing mean value of total_bill\n",
    "print('total bill median :', df['total_bill'].quantile(q=0.5)) #median value\n",
    "print('total bill (max) value :', df['total_bill'].max()) #max value"
   ],
   "metadata": {
    "collapsed": false,
    "pycharm": {
     "name": "#%%\n"
    }
   }
  },
  {
   "cell_type": "markdown",
   "source": [
    "#### Tip"
   ],
   "metadata": {
    "collapsed": false
   }
  },
  {
   "cell_type": "code",
   "execution_count": null,
   "outputs": [],
   "source": [
    "sum1 = df['tip'].sum()\n",
    "print('tip summary:', sum1) #total summary\n",
    "print('tip (min) value :', df['tip'].min()) #min value\n",
    "print('tip mean :', df[\"tip\"].mean()) #printing mean value of tip\n",
    "print('tip median :', df['tip'].quantile(q=0.5)) #median value\n",
    "print('tip (max) value :', df['tip'].max()) #max value"
   ],
   "metadata": {
    "collapsed": false,
    "pycharm": {
     "name": "#%%\n"
    }
   }
  },
  {
   "cell_type": "markdown",
   "source": [
    "#### Size"
   ],
   "metadata": {
    "collapsed": false
   }
  },
  {
   "cell_type": "code",
   "execution_count": null,
   "outputs": [],
   "source": [
    "sum2 = df['size'].sum()\n",
    "print('size summary:', sum2) #total summary\n",
    "print('size (min) value :', df['size'].min()) #min value\n",
    "print('size mean :', df['size'].mean()) #mean value\n",
    "print('size median :', df['size'].quantile(q=0.5)) #median value\n",
    "print('size (max) value :', df['size'].max()) #max value"
   ],
   "metadata": {
    "collapsed": false,
    "pycharm": {
     "name": "#%%\n"
    }
   }
  },
  {
   "cell_type": "markdown",
   "source": [
    "#### smoker"
   ],
   "metadata": {
    "collapsed": false
   }
  },
  {
   "cell_type": "code",
   "execution_count": null,
   "outputs": [],
   "source": [
    "y_smoke = (df['smoker']).value_counts()['Yes']\n",
    "n_smoke = (df['smoker']).value_counts()['No']\n",
    "print('yes:', y_smoke) #value count of people smoking\n",
    "print('no :', n_smoke) #value count of people not smoking"
   ],
   "metadata": {
    "collapsed": false,
    "pycharm": {
     "name": "#%%\n"
    }
   }
  },
  {
   "cell_type": "code",
   "execution_count": null,
   "outputs": [],
   "source": [
    "sns.set_style('whitegrid') #seaborn whitegrid to see the results more exact\n",
    "sns.set_context('talk') #seaborn setting for a better visualization"
   ],
   "metadata": {
    "collapsed": false,
    "pycharm": {
     "name": "#%%\n"
    }
   }
  },
  {
   "cell_type": "markdown",
   "source": [
    "### Pie chart / smoker vs non-smoker"
   ],
   "metadata": {
    "collapsed": false
   }
  },
  {
   "cell_type": "code",
   "execution_count": null,
   "outputs": [],
   "source": [
    "plt.style.use('seaborn')\n",
    "df.groupby(['smoker']).sum().plot(kind= 'pie', y= 'size',\n",
    "                                  shadow = True,\n",
    "                                  explode = (0, 0.1),\n",
    "                                  colors = ['deepskyblue', 'steelblue'],\n",
    "                                  autopct='%1.1f%%').set_title\\\n",
    "    ('Smokers present');\n",
    "#pie chart visualizing: smokers vs non-smokers\n",
    "#counted and sorted by size"
   ],
   "metadata": {
    "collapsed": false,
    "pycharm": {
     "name": "#%%\n"
    }
   }
  },
  {
   "cell_type": "markdown",
   "source": [
    "### Countplot / Daily table servings"
   ],
   "metadata": {
    "collapsed": false
   }
  },
  {
   "cell_type": "code",
   "execution_count": null,
   "outputs": [],
   "source": [
    "sns.countplot(y='day', hue='time', palette=('mako'),\n",
    "            saturation=0.8,\n",
    "            data=df,\n",
    "              alpha=0.8)\n",
    "plt.title(\"Tables served by day\");\n",
    "#catplot visualizing: tables served by lunch & dinner\n",
    "#counted and sorted by the: different days from friday-sunday"
   ],
   "metadata": {
    "collapsed": false,
    "pycharm": {
     "name": "#%%\n"
    }
   }
  },
  {
   "cell_type": "markdown",
   "source": [
    "### Catplot / Table servings by size"
   ],
   "metadata": {
    "collapsed": false
   }
  },
  {
   "cell_type": "code",
   "execution_count": null,
   "outputs": [],
   "source": [
    "sns.catplot(x='day', hue='size', palette=('mako'),\n",
    "            saturation=0.8,\n",
    "            data=df, kind='count',\n",
    "            height=8, aspect=.8,\n",
    "            alpha=0.8)\n",
    "plt.title(\"Tables served by size\");\n",
    "#Catplot visualizing: tables served by size\n",
    "#counted and sorted by the: different days from friday-sunday"
   ],
   "metadata": {
    "collapsed": false,
    "pycharm": {
     "name": "#%%\n"
    }
   }
  },
  {
   "cell_type": "markdown",
   "source": [
    "## Perform data cleaning or transformation"
   ],
   "metadata": {
    "collapsed": false
   }
  },
  {
   "cell_type": "markdown",
   "source": [
    "# Interesting subject:"
   ],
   "metadata": {
    "collapsed": false
   }
  },
  {
   "cell_type": "markdown",
   "source": [
    "### We want to add a few new variables to show a interesting subject in the dataframe:"
   ],
   "metadata": {
    "collapsed": false
   }
  },
  {
   "cell_type": "code",
   "execution_count": null,
   "outputs": [],
   "source": [
    "df['person_bill']=df['total_bill']/df['size'] # what is the total_bill by person?\n",
    "df['person_tip']=df['tip']/df['size'] #what is the the tip by person?\n",
    "df.head() #shows the top 5 rows in the set and our new values"
   ],
   "metadata": {
    "collapsed": false,
    "pycharm": {
     "name": "#%%\n"
    }
   }
  },
  {
   "cell_type": "markdown",
   "source": [
    "### Finding new co-relations"
   ],
   "metadata": {
    "collapsed": false
   }
  },
  {
   "cell_type": "code",
   "execution_count": null,
   "outputs": [],
   "source": [
    "df.corr()"
   ],
   "metadata": {
    "collapsed": false,
    "pycharm": {
     "name": "#%%\n"
    }
   }
  },
  {
   "cell_type": "markdown",
   "source": [
    "#### Tip value by person"
   ],
   "metadata": {
    "collapsed": false
   }
  },
  {
   "cell_type": "code",
   "execution_count": null,
   "outputs": [],
   "source": [
    "print('tip (min) value :', df['person_tip'].min()) #printing new (min) value of tip\n",
    "print('tip mean :', df[\"person_tip\"].mean()) #printing new mean value of tip\n",
    "print('tip (max) value :', df['person_tip'].max()) #printing new (max) value of tip"
   ],
   "metadata": {
    "collapsed": false,
    "pycharm": {
     "name": "#%%\n"
    }
   }
  },
  {
   "cell_type": "markdown",
   "source": [
    "#### Bill value by person"
   ],
   "metadata": {
    "collapsed": false
   }
  },
  {
   "cell_type": "code",
   "execution_count": null,
   "outputs": [],
   "source": [
    "print('total bill (min) value :', df['person_bill'].min()) #printing new (min) value of total_bill\n",
    "print('total bill mean :', df[\"person_bill\"].mean()) #printing new mean value of total_bill\n",
    "print('total bill (max) value :', df['person_bill'].max()) #printing new (max) value of total_bill"
   ],
   "metadata": {
    "collapsed": false,
    "pycharm": {
     "name": "#%%\n"
    }
   }
  },
  {
   "cell_type": "markdown",
   "source": [
    "## Conclusion by visualization or analysis"
   ],
   "metadata": {
    "collapsed": false
   }
  },
  {
   "cell_type": "markdown",
   "source": [
    "### Average tip by size and smoker"
   ],
   "metadata": {
    "collapsed": false
   }
  },
  {
   "cell_type": "code",
   "execution_count": null,
   "outputs": [],
   "source": [
    "df.groupby(['smoker', 'size'])['tip'].mean().plot.bar(color='skyblue')\n",
    "plt.show() #we can conclude that non-smokers size have a higher average tip rate"
   ],
   "metadata": {
    "collapsed": false,
    "pycharm": {
     "name": "#%%\n"
    }
   }
  },
  {
   "cell_type": "markdown",
   "source": [
    "### Tip by person which is less or equal to 1"
   ],
   "metadata": {
    "collapsed": false
   }
  },
  {
   "cell_type": "code",
   "execution_count": null,
   "outputs": [],
   "source": [
    "df['person_tip'].apply(lambda x: 'true' if x >= 1 else 'false')\n",
    "#lambda boolean / condition function checking if it meets  the set criteria: 'true' if it does, else 'false'"
   ],
   "metadata": {
    "collapsed": false,
    "pycharm": {
     "name": "#%%\n"
    }
   }
  },
  {
   "cell_type": "markdown",
   "source": [
    "### Differential total bill & bill by person"
   ],
   "metadata": {
    "collapsed": false
   }
  },
  {
   "cell_type": "code",
   "execution_count": null,
   "outputs": [],
   "source": [
    "sns.distplot(df['total_bill'], color = 'skyblue', label=\"total_bill\", bins = 10) #\n",
    "sns.distplot(df['person_bill'], color= 'lightgreen', label=\"person_bill\", bins = 7)\n",
    "#Distplots visualizing: total bill differential by person bill\n",
    "plt.title(\"Total Bill & Bill by person\"); #setting a plt.title\n",
    "plt.legend() #added a label to each axes of the plot\n",
    "plt.xlim(0, 50) #setting the x-axes (min)-(max) value\n",
    "plt.ylim(0, 0.17); #setting the y-axes (min)-(max) value"
   ],
   "metadata": {
    "collapsed": false,
    "pycharm": {
     "name": "#%%\n"
    }
   }
  },
  {
   "cell_type": "markdown",
   "source": [
    "### Scatterplot total bill and tip sorted by time"
   ],
   "metadata": {
    "collapsed": false
   }
  },
  {
   "cell_type": "code",
   "execution_count": null,
   "outputs": [],
   "source": [
    "sns.scatterplot(data = df, x='person_bill', y='person_tip', hue='time', palette=('mako'));\n",
    "#scatterplot visualizing: person bill differential by person tip\n",
    "#we can conclude that the higher  bill = higher tip"
   ],
   "metadata": {
    "collapsed": false,
    "pycharm": {
     "name": "#%%\n"
    }
   }
  },
  {
   "cell_type": "markdown",
   "source": [
    "### Differential between tip and tip by person"
   ],
   "metadata": {
    "collapsed": false
   }
  },
  {
   "cell_type": "code",
   "execution_count": null,
   "outputs": [],
   "source": [
    "tip = df.loc[:,['person_tip', 'person_bill']]\n",
    "tip.plot(color = ['deepskyblue', 'steelblue'], alpha=0.8)\n",
    "plt.xlim(0, 250) #setting the x-axes (min)-(max) value\n",
    "plt.ylim(0, 20)\n",
    "plt.show();"
   ],
   "metadata": {
    "collapsed": false,
    "pycharm": {
     "name": "#%%\n"
    }
   }
  },
  {
   "cell_type": "markdown",
   "source": [
    "#### Filtering"
   ],
   "metadata": {
    "collapsed": false
   }
  },
  {
   "cell_type": "code",
   "execution_count": null,
   "outputs": [],
   "source": [
    "df.loc[(df.total_bill>25) & (df.person_tip > 2)]\n",
    "#filtering out showing us who meets the conditions with total bill larger than 25 and also have a tip rate more than 2"
   ],
   "metadata": {
    "collapsed": false,
    "pycharm": {
     "name": "#%%\n"
    }
   }
  },
  {
   "cell_type": "markdown",
   "source": [
    "#### Tip differential subplot"
   ],
   "metadata": {
    "collapsed": false
   }
  },
  {
   "cell_type": "code",
   "execution_count": null,
   "outputs": [],
   "source": [
    "tip.plot(subplots = True, color = ['deepskyblue', 'steelblue'], alpha=0.8)\n",
    "plt.xlim(0, 245) #setting the x-axes (min)-(max) value\n",
    "plt.ylim(0, 22)\n",
    "plt.show();"
   ],
   "metadata": {
    "collapsed": false,
    "pycharm": {
     "name": "#%%\n"
    }
   }
  },
  {
   "cell_type": "markdown",
   "source": [
    "### Differential between tip and size"
   ],
   "metadata": {
    "collapsed": false
   }
  },
  {
   "cell_type": "code",
   "execution_count": null,
   "outputs": [],
   "source": [
    "tip2 = sns.swarmplot(x=\"size\", y=\"person_tip\",\n",
    "                     data=df,\n",
    "                     palette='magma',dodge=True, alpha=0.8);\n",
    "plt.show()\n",
    "#we can easily see the comparison between size and tip\n"
   ],
   "metadata": {
    "collapsed": false,
    "pycharm": {
     "name": "#%%\n"
    }
   }
  }
 ],
 "metadata": {
  "kernelspec": {
   "display_name": "Python 3",
   "language": "python",
   "name": "python3"
  },
  "language_info": {
   "codemirror_mode": {
    "name": "ipython",
    "version": 2
   },
   "file_extension": ".py",
   "mimetype": "text/x-python",
   "name": "python",
   "nbconvert_exporter": "python",
   "pygments_lexer": "ipython2",
   "version": "2.7.6"
  }
 },
 "nbformat": 4,
 "nbformat_minor": 0
}